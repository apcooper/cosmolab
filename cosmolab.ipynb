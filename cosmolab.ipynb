{
 "cells": [
  {
   "cell_type": "code",
   "execution_count": null,
   "metadata": {},
   "outputs": [],
   "source": [
    "import os\n",
    "import sys\n",
    "import numpy as np\n",
    "\n",
    "import matplotlib.pyplot as pl\n",
    "%matplotlib inline"
   ]
  },
  {
   "cell_type": "markdown",
   "metadata": {},
   "source": [
    "# Astro-ML Correlation Functions"
   ]
  },
  {
   "cell_type": "markdown",
   "metadata": {},
   "source": [
    "Following https://www.astroml.org/user_guide/correlation_functions.html"
   ]
  },
  {
   "cell_type": "markdown",
   "metadata": {},
   "source": [
    "Make some random-unform data:"
   ]
  },
  {
   "cell_type": "code",
   "execution_count": null,
   "metadata": {},
   "outputs": [],
   "source": [
    "from astroML.correlation import two_point\n",
    "np.random.seed(0)\n",
    "X = np.random.random((5000, 2))\n",
    "print(X.shape)"
   ]
  },
  {
   "cell_type": "code",
   "execution_count": null,
   "metadata": {},
   "outputs": [],
   "source": [
    "pl.scatter(X[:,0],X[:,1],s=1,edgecolor='None',c='k')\n",
    "pl.axis('equal');\n",
    "pl.xlim(0,1)\n",
    "pl.ylim(0,1)"
   ]
  },
  {
   "cell_type": "markdown",
   "metadata": {},
   "source": [
    "Look at the 'two point' function in astroml:"
   ]
  },
  {
   "cell_type": "code",
   "execution_count": null,
   "metadata": {},
   "outputs": [],
   "source": [
    "two_point?"
   ]
  },
  {
   "cell_type": "markdown",
   "metadata": {},
   "source": [
    "Set up some bins and plot the correlation function:"
   ]
  },
  {
   "cell_type": "code",
   "execution_count": null,
   "metadata": {},
   "outputs": [],
   "source": [
    "bins = np.linspace(0, 1, 20)\n",
    "corr = two_point(X, bins)"
   ]
  },
  {
   "cell_type": "code",
   "execution_count": null,
   "metadata": {},
   "outputs": [],
   "source": [
    "pl.plot(bins[:-1],corr,marker='s',ms=2,ls='')\n",
    "pl.ylim(-0.1,0.1)\n",
    "pl.grid()\n",
    "np.allclose(corr, 0, atol=0.02)"
   ]
  },
  {
   "cell_type": "code",
   "execution_count": null,
   "metadata": {},
   "outputs": [],
   "source": [
    "from astroML.correlation import two_point\n",
    "np.random.seed(0)\n",
    "Y = list()\n",
    "for (x,y) in X[::50]:\n",
    "    Y.append(np.random.normal(loc=(x,y),scale=0.02,size=(200,2)))\n",
    "Y = np.concatenate(Y)\n",
    "Y = np.concatenate([Y,X])"
   ]
  },
  {
   "cell_type": "code",
   "execution_count": null,
   "metadata": {},
   "outputs": [],
   "source": [
    "pl.scatter(Y[:,0],Y[:,1],s=1,edgecolor='None',c='k')\n",
    "pl.axis('equal');\n",
    "pl.xlim(0,1)\n",
    "pl.ylim(0,1)"
   ]
  },
  {
   "cell_type": "code",
   "execution_count": null,
   "metadata": {},
   "outputs": [],
   "source": [
    "bins = np.linspace(0, 1, 100)\n",
    "corr = two_point(Y, bins)\n",
    "pl.plot(bins[:-1],corr,marker='s',ms=2,ls='')\n",
    "pl.grid()\n",
    "pl.xlim(0,1)"
   ]
  },
  {
   "cell_type": "code",
   "execution_count": null,
   "metadata": {},
   "outputs": [],
   "source": [
    "bins = np.logspace(-2, 0.0, 50)\n",
    "corr = two_point(Y, bins)\n",
    "pl.plot(np.log10(bins[:-1]),np.log10(corr),marker='s',ms=2,ls='')\n",
    "pl.grid()"
   ]
  },
  {
   "cell_type": "markdown",
   "metadata": {},
   "source": [
    "Version with errors"
   ]
  },
  {
   "cell_type": "code",
   "execution_count": null,
   "metadata": {},
   "outputs": [],
   "source": [
    "bootstrap_two_point?"
   ]
  },
  {
   "cell_type": "code",
   "execution_count": null,
   "metadata": {},
   "outputs": [],
   "source": [
    "bins = np.linspace(0, 1, 20)\n",
    "from astroML.correlation import bootstrap_two_point\n",
    "corr, dcorr = bootstrap_two_point(X, bins, Nbootstrap=10)\n",
    "np.allclose(corr, 0, atol=2 * dcorr)"
   ]
  },
  {
   "cell_type": "code",
   "execution_count": null,
   "metadata": {},
   "outputs": [],
   "source": [
    "pl.errorbar(bins[:-1],corr,yerr=dcorr,elinewidth=2,marker='s',ms=1,ls='')\n",
    "pl.ylim(-0.1,0.1)\n",
    "pl.grid()"
   ]
  },
  {
   "cell_type": "markdown",
   "metadata": {},
   "source": [
    "Now explore\n",
    "https://www.astroml.org/book_figures/chapter6/fig_correlation_function.html"
   ]
  },
  {
   "cell_type": "code",
   "execution_count": null,
   "metadata": {},
   "outputs": [],
   "source": [
    "from astroML.datasets import fetch_sdss_specgals"
   ]
  },
  {
   "cell_type": "code",
   "execution_count": null,
   "metadata": {},
   "outputs": [],
   "source": [
    "# Get data and do some quality cuts\n",
    "data = fetch_sdss_specgals()\n",
    "m_max = 17.7\n",
    "\n",
    "# redshift and magnitude cuts\n",
    "data = data[data['z'] > 0.08]\n",
    "data = data[data['z'] < 0.12]\n",
    "data = data[data['petroMag_r'] < m_max]\n",
    "\n",
    "# RA/DEC cuts\n",
    "RAmin, RAmax = 140, 220\n",
    "DECmin, DECmax = 5, 45\n",
    "data = data[data['ra'] < RAmax]\n",
    "data = data[data['ra'] > RAmin]\n",
    "data = data[data['dec'] < DECmax]\n",
    "data = data[data['dec'] > DECmin]\n",
    "\n",
    "ur = data['modelMag_u'] - data['modelMag_r']\n",
    "flag_red = (ur > 2.22)\n",
    "flag_blue = ~flag_red\n",
    "\n",
    "data_red = data[flag_red]\n",
    "data_blue = data[flag_blue]\n",
    "\n",
    "print(\"data size:\")\n",
    "print(\"  red gals: \", len(data_red))\n",
    "print(\"  blue gals:\", len(data_blue))"
   ]
  },
  {
   "cell_type": "code",
   "execution_count": null,
   "metadata": {},
   "outputs": [],
   "source": [
    "pl.figure(figsize=(10,5))\n",
    "pl.scatter(data['ra'],data['dec'],s=1,alpha=0.2);\n",
    "pl.xlabel('RA (deg)')\n",
    "pl.ylabel('DEC (deg)')"
   ]
  },
  {
   "cell_type": "code",
   "execution_count": null,
   "metadata": {},
   "outputs": [],
   "source": [
    "fig = pl.figure(figsize=(15,5))\n",
    "ax = fig.gca()\n",
    "_ = (data['dec'] > 10) & (data['dec'] < 20)\n",
    "c = ax.scatter(data['ra'][_],data['z'][_],s=3,alpha=0.5,c='k');\n",
    "pl.colorbar(c,shrink=0.8);\n",
    "pl.xlabel('RA (deg)')\n",
    "pl.ylabel('z');\n"
   ]
  },
  {
   "cell_type": "code",
   "execution_count": null,
   "metadata": {},
   "outputs": [],
   "source": [
    "pl.hist(ur,bins=np.arange(0,5,0.1));"
   ]
  },
  {
   "cell_type": "code",
   "execution_count": null,
   "metadata": {},
   "outputs": [],
   "source": [
    "fig = pl.figure(figsize=(10,10))\n",
    "ax  = fig.add_subplot(111, projection='polar')\n",
    "c   = ax.scatter(np.deg2rad(data['ra'][_]), data['z'][_],s=1,c=ur[_],alpha=1,cmap='RdYlBu_r',vmin=1.0,vmax=3.5)\n",
    "ax.set_theta_zero_location('S')\n",
    "ax.set_thetamin(135)\n",
    "ax.set_thetamax(225)\n",
    "pl.colorbar(c,shrink=0.5);"
   ]
  },
  {
   "cell_type": "code",
   "execution_count": null,
   "metadata": {},
   "outputs": [],
   "source": [
    "import time\n",
    "from astroML.utils.decorators import pickle_results\n",
    "from astroML.correlation import bootstrap_two_point_angular\n",
    "\n",
    "# Set up correlation function computation\n",
    "#  This calculation takes a long time with the bootstrap resampling,\n",
    "#  so we'll save the results.\n",
    "@pickle_results(\"correlation_functions.pkl\")\n",
    "def compute_results(Nbins=16, Nbootstraps=10,  method='landy-szalay', rseed=0):\n",
    "    np.random.seed(rseed)\n",
    "    bins = 10 ** np.linspace(np.log10(1 / 60.), np.log10(6), 16)\n",
    "\n",
    "    results = [bins]\n",
    "    for D in [data_red, data_blue]:\n",
    "        results += bootstrap_two_point_angular(D['ra'],\n",
    "                                               D['dec'],\n",
    "                                               bins=bins,\n",
    "                                               method=method,\n",
    "                                               Nbootstraps=Nbootstraps)\n",
    "\n",
    "    return results\n",
    "\n",
    "t0 = time.time()\n",
    "(bins, r_corr, r_corr_err, r_bootstraps, b_corr, b_corr_err, b_bootstraps) = compute_results()\n",
    "print('Time taken: {}s'.format(time.time()-t0))"
   ]
  },
  {
   "cell_type": "code",
   "execution_count": null,
   "metadata": {},
   "outputs": [],
   "source": [
    "bin_centers = 0.5 * (bins[1:] + bins[:-1])\n",
    "\n",
    "# Plot the results\n",
    "corr = [r_corr, b_corr]\n",
    "corr_err = [r_corr_err, b_corr_err]\n",
    "bootstraps = [r_bootstraps, b_bootstraps]\n",
    "labels = ['$u-r > 2.22$\\n$N=%i$' % len(data_red),\n",
    "          '$u-r < 2.22$\\n$N=%i$' % len(data_blue)]\n",
    "\n",
    "fig = pl.figure(figsize=(10, 5))\n",
    "fig.subplots_adjust(bottom=0.2, top=0.9,\n",
    "                    left=0.13, right=0.95)\n",
    "\n",
    "for i in range(2):\n",
    "    ax = fig.add_subplot(121 + i, xscale='log', yscale='log')\n",
    "\n",
    "    ax.errorbar(bin_centers, corr[i], corr_err[i],\n",
    "                fmt='.k', ecolor='gray', lw=1)\n",
    "\n",
    "    t = np.array([0.01, 10])\n",
    "    ax.plot(t, 10 * (t / 0.01) ** -0.8, ':k', linewidth=1)\n",
    "\n",
    "    ax.text(0.95, 0.95, labels[i],\n",
    "            ha='right', va='top', transform=ax.transAxes)\n",
    "    ax.set_xlabel(r'$\\theta\\ (deg)$')\n",
    "    if i == 0:\n",
    "        ax.set_ylabel(r'$\\hat{w}(\\theta)$')"
   ]
  },
  {
   "cell_type": "code",
   "execution_count": null,
   "metadata": {},
   "outputs": [],
   "source": [
    "# Compare these L-S estimator results with the standard estimator"
   ]
  },
  {
   "cell_type": "code",
   "execution_count": null,
   "metadata": {},
   "outputs": [],
   "source": [
    "@pickle_results(\"correlation_functions_standard.pkl\")\n",
    "def compute_results(Nbins=16, Nbootstraps=10,  method='standard', rseed=0):\n",
    "    np.random.seed(rseed)\n",
    "    bins = 10 ** np.linspace(np.log10(1 / 60.), np.log10(6), 16)\n",
    "\n",
    "    results = [bins]\n",
    "    for D in [data_red, data_blue]:\n",
    "        results += bootstrap_two_point_angular(D['ra'],\n",
    "                                               D['dec'],\n",
    "                                               bins=bins,\n",
    "                                               method=method,\n",
    "                                               Nbootstraps=Nbootstraps)\n",
    "\n",
    "    return results\n",
    "\n",
    "t0 = time.time()\n",
    "(s_bins, s_r_corr, s_r_corr_err, s_r_bootstraps, s_b_corr, s_b_corr_err, s_b_bootstraps) = compute_results()\n",
    "print('Time taken: {}s'.format(time.time()-t0))"
   ]
  },
  {
   "cell_type": "code",
   "execution_count": null,
   "metadata": {},
   "outputs": [],
   "source": [
    "# Define a shortcut for overplotting on the same figure\n",
    "\n",
    "def plot_corr_results(bins, corr, corr_err, bootstraps, labels=None, kwargs=None):\n",
    "    \"\"\"\n",
    "    \"\"\"\n",
    "    fig = pl.gcf()\n",
    "    bin_centers = 0.5 * (bins[1:] + bins[:-1])\n",
    "\n",
    "    for i in range(len(corr)):\n",
    "        ax = fig.axes[i]\n",
    "            \n",
    "        _kwargs = dict(fmt='.k', ecolor='gray', lw=1)\n",
    "        if kwargs is not None:\n",
    "            _kwargs.update(kwargs)\n",
    "        ax.errorbar(bin_centers, corr[i], corr_err[i],**_kwargs)\n",
    "\n",
    "        t = np.array([0.01, 10])\n",
    "        ax.plot(t, 10 * (t / 0.01) ** -0.8, ':k', linewidth=1)\n",
    "\n",
    "        if labels is not None:\n",
    "            ax.text(0.95, 0.95, labels[i],\n",
    "                    ha='right', va='top', transform=ax.transAxes)\n",
    "        ax.set_xlabel(r'$\\theta\\ (deg)$')\n",
    "        if i == 0:\n",
    "            ax.set_ylabel(r'$\\hat{w}(\\theta)$')\n",
    "    return"
   ]
  },
  {
   "cell_type": "code",
   "execution_count": null,
   "metadata": {},
   "outputs": [],
   "source": [
    "# Plot the results\n",
    "corr = [r_corr, b_corr]\n",
    "corr_err = [r_corr_err, b_corr_err]\n",
    "bootstraps = [r_bootstraps, b_bootstraps]\n",
    "labels = ['$u-r > 2.22$\\n$N=%i$' % len(data_red),\n",
    "          '$u-r < 2.22$\\n$N=%i$' % len(data_blue)]\n",
    "\n",
    "fig = pl.figure(figsize=(10, 5))\n",
    "fig.subplots_adjust(bottom=0.2, top=0.9,\n",
    "                    left=0.13, right=0.95)\n",
    "for i in range(len(corr)):\n",
    "        ax = fig.add_subplot(121 + i, xscale='log', yscale='log')\n",
    "plot_corr_results(bins, corr, corr_err, bootstraps, labels=labels) \n",
    "\n",
    "corr = [s_r_corr, s_b_corr]\n",
    "corr_err = [s_r_corr_err, s_b_corr_err]\n",
    "bootstraps = [s_r_bootstraps, s_b_bootstraps]\n",
    "kwargs = {'fmt':'.b'}\n",
    "plot_corr_results(bins, corr, corr_err, bootstraps,kwargs=kwargs) \n"
   ]
  },
  {
   "cell_type": "code",
   "execution_count": null,
   "metadata": {},
   "outputs": [],
   "source": [
    "pl.figure(figsize=(10,5))\n",
    "pl.scatter(data_red['ra'],data_red['dec'],s=1,alpha=0.2,c='r');"
   ]
  },
  {
   "cell_type": "code",
   "execution_count": null,
   "metadata": {},
   "outputs": [],
   "source": [
    "pl.figure(figsize=(10,5))\n",
    "pl.scatter(data_blue['ra'],data_blue['dec'],s=1,alpha=0.2,c='b');"
   ]
  },
  {
   "cell_type": "code",
   "execution_count": null,
   "metadata": {},
   "outputs": [],
   "source": [
    "random_red = np.argsort(np.random.random(len(data_red)))[::5]\n",
    "random_blue = np.argsort(np.random.random(len(data_blue)))[::5]\n",
    "print(len(random_red),len(random_blue))"
   ]
  },
  {
   "cell_type": "code",
   "execution_count": null,
   "metadata": {},
   "outputs": [],
   "source": [
    "@pickle_results(\"correlation_functions_l.pkl\")\n",
    "def compute_results(Nbins=16, Nbootstraps=10,  method='landy-szalay', rseed=0):\n",
    "    np.random.seed(rseed)\n",
    "    bins = 10 ** np.linspace(np.log10(1 / 60.), np.log10(6), 16)\n",
    "\n",
    "    results = [bins]\n",
    "    for D in [data_red, data_blue]:\n",
    "        _ = D['ra'] < 180.0\n",
    "        results += bootstrap_two_point_angular(D['ra'][_],\n",
    "                                               D['dec'][_],\n",
    "                                               bins=bins,\n",
    "                                               method=method,\n",
    "                                               Nbootstraps=Nbootstraps)\n",
    "\n",
    "    return results\n",
    "\n",
    "t0 = time.time()\n",
    "corr_l = compute_results()\n",
    "print('Time taken: {}s'.format(time.time()-t0))\n"
   ]
  },
  {
   "cell_type": "code",
   "execution_count": null,
   "metadata": {},
   "outputs": [],
   "source": [
    "@pickle_results(\"correlation_functions_r.pkl\")\n",
    "def compute_results(Nbins=16, Nbootstraps=10,  method='landy-szalay', rseed=0):\n",
    "    np.random.seed(rseed)\n",
    "    bins = 10 ** np.linspace(np.log10(1 / 60.), np.log10(6), 16)\n",
    "\n",
    "    results = [bins]\n",
    "    for D in [data_red, data_blue]:\n",
    "        _ = D['ra'] > 180.0\n",
    "        results += bootstrap_two_point_angular(D['ra'][_],\n",
    "                                               D['dec'][_],\n",
    "                                               bins=bins,\n",
    "                                               method=method,\n",
    "                                               Nbootstraps=Nbootstraps)\n",
    "\n",
    "    return results\n",
    "\n",
    "t0 = time.time()\n",
    "corr_r = compute_results()\n",
    "print('Time taken: {}s'.format(time.time()-t0))"
   ]
  },
  {
   "cell_type": "code",
   "execution_count": null,
   "metadata": {},
   "outputs": [],
   "source": [
    "# Plot the results\n",
    "labels = ['$u-r > 2.22$\\n$N=%i$' % len(data_red),\n",
    "          '$u-r < 2.22$\\n$N=%i$' % len(data_blue)]\n",
    "\n",
    "fig = pl.figure(figsize=(10, 5))\n",
    "fig.subplots_adjust(bottom=0.2, top=0.9,\n",
    "                    left=0.13, right=0.95)\n",
    "\n",
    "for i in range(len(corr)):\n",
    "        ax = fig.add_subplot(121 + i, xscale='log', yscale='log')\n",
    "        \n",
    "_X = corr_r\n",
    "plot_corr_results(_X[0], [_X[1],_X[4]], [_X[2],_X[5]], [_X[3],_X[6]], labels=labels) \n",
    "\n",
    "kwargs = {'fmt':'.r'}\n",
    "_X = corr_l\n",
    "plot_corr_results(_X[0], [_X[1],_X[4]], [_X[2],_X[5]], [_X[3],_X[6]], kwargs=kwargs)"
   ]
  },
  {
   "cell_type": "code",
   "execution_count": null,
   "metadata": {},
   "outputs": [],
   "source": [
    "# Plot the results\n",
    "corr = [r_corr, b_corr]\n",
    "corr_err = [r_corr_err, b_corr_err]\n",
    "bootstraps = [r_bootstraps, b_bootstraps]\n",
    "labels = ['$u-r > 2.22$\\n$N=%i$' % len(data_red),\n",
    "          '$u-r < 2.22$\\n$N=%i$' % len(data_blue)]\n",
    "\n",
    "fig = pl.figure(figsize=(15, 5))\n",
    "fig.subplots_adjust(bottom=0.2, top=0.9,\n",
    "                    left=0.13, right=0.95)\n",
    "\n",
    "for i in range(2):\n",
    "    ax = fig.add_subplot(121 + i)\n",
    "\n",
    "    ax.errorbar(bin_centers, corr[i], corr_err[i],\n",
    "                fmt='.k', ecolor='gray', lw=1)\n",
    "\n",
    "    pl.axhline(0,c='b',alpha=0.2)\n",
    "    \n",
    "    ax.text(0.95, 0.95, labels[i],\n",
    "            ha='right', va='top', transform=ax.transAxes)\n",
    "    ax.set_xlabel(r'$\\theta\\ (deg)$')\n",
    "    if i == 0:\n",
    "        ax.set_ylabel(r'$\\hat{w}(\\theta)$')"
   ]
  },
  {
   "cell_type": "code",
   "execution_count": null,
   "metadata": {},
   "outputs": [],
   "source": [
    "@pickle_results(\"correlation_functions_left.pkl\")\n",
    "def compute_results(Nbins=16, Nbootstraps=10,  method='landy-szalay', rseed=0):\n",
    "    np.random.seed(rseed)\n",
    "    bins = 10 ** np.linspace(np.log10(1 / 60.), np.log10(6), 16)\n",
    "\n",
    "    results = [bins]\n",
    "    for D in [(data_red), (data_blue,random_blue)]:\n",
    "        results += bootstrap_two_point_angular(D[0]['ra'][D[1]],\n",
    "                                               D[0]['dec'][D[1]],\n",
    "                                               bins=bins,\n",
    "                                               method=method,\n",
    "                                               Nbootstraps=Nbootstraps)\n",
    "\n",
    "    return results\n",
    "\n",
    "t0 = time.time()\n",
    "cr_left = compute_results()\n",
    "print('Time taken: {}s'.format(time.time()-t0))"
   ]
  },
  {
   "cell_type": "code",
   "execution_count": null,
   "metadata": {},
   "outputs": [],
   "source": [
    "# Plot the results\n",
    "corr = [r_corr, b_corr]\n",
    "corr_err = [r_corr_err, b_corr_err]\n",
    "bootstraps = [r_bootstraps, b_bootstraps]\n",
    "labels = ['$u-r > 2.22$\\n$N=%i$' % len(data_red),\n",
    "          '$u-r < 2.22$\\n$N=%i$' % len(data_blue)]\n",
    "\n",
    "fig = pl.figure(figsize=(10, 5))\n",
    "fig.subplots_adjust(bottom=0.2, top=0.9,\n",
    "                    left=0.13, right=0.95)\n",
    "for i in range(len(corr)):\n",
    "        ax = fig.add_subplot(121 + i, xscale='log', yscale='log')\n",
    "plot_corr_results(bins, corr, corr_err, bootstraps, labels=labels) \n",
    "\n",
    "corr = [sp_r_corr, sp_b_corr]\n",
    "corr_err = [sp_r_corr_err, sp_b_corr_err]\n",
    "bootstraps = [sp_r_bootstraps, sp_b_bootstraps]\n",
    "kwargs = {'fmt':'.r'}\n",
    "plot_corr_results(bins, corr, corr_err, bootstraps,kwargs=kwargs) "
   ]
  },
  {
   "cell_type": "code",
   "execution_count": null,
   "metadata": {},
   "outputs": [],
   "source": []
  },
  {
   "cell_type": "markdown",
   "metadata": {},
   "source": [
    "# CAMB"
   ]
  },
  {
   "cell_type": "markdown",
   "metadata": {},
   "source": [
    "conda install -c conda-forge camb"
   ]
  },
  {
   "cell_type": "code",
   "execution_count": null,
   "metadata": {},
   "outputs": [],
   "source": []
  },
  {
   "cell_type": "markdown",
   "metadata": {},
   "source": [
    "### Other resources\n",
    "\n",
    "https://sites.google.com/umich.edu/mcmahoncosmology/cmb-school\n",
    "\n",
    "http://www.astro.ubc.ca/people/jvw/ASTROSTATS/pracstats_web_ed2.html\n",
    "\n",
    "http://learn.astropy.org/rst-tutorials/redshift-plot.html?highlight=filtertutorials\n",
    "(also http://learn.astropy.org/ in general)\n",
    "\n",
    "https://halotools.readthedocs.io/ "
   ]
  },
  {
   "cell_type": "code",
   "execution_count": null,
   "metadata": {},
   "outputs": [],
   "source": []
  }
 ],
 "metadata": {
  "kernelspec": {
   "display_name": "Python (cosmo)",
   "language": "python",
   "name": "myenv"
  },
  "language_info": {
   "codemirror_mode": {
    "name": "ipython",
    "version": 3
   },
   "file_extension": ".py",
   "mimetype": "text/x-python",
   "name": "python",
   "nbconvert_exporter": "python",
   "pygments_lexer": "ipython3",
   "version": "3.6.9"
  }
 },
 "nbformat": 4,
 "nbformat_minor": 4
}
